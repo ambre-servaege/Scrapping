{
 "cells": [
  {
   "cell_type": "code",
   "execution_count": 2,
   "metadata": {},
   "outputs": [
    {
     "name": "stdout",
     "output_type": "stream",
     "text": [
      "['#', 'Country (or dependency)', 'Population (2024)', 'Yearly Change', 'Net Change', 'Density (P/Km²)', 'Land Area (Km²)', 'Migrants (net)', 'Fert. Rate', 'Med. Age', 'Urban Pop %', 'World Share']\n",
      "['1', 'India', '1,450,935,791', '0.89 %', '12,866,195', '488', '2,973,190', '-630,830', '2.0', '28', '37 %', '17.78 %']\n",
      "['2', 'China', '1,419,321,278', '-0.23 %', '-3,263,655', '151', '9,388,211', '-318,992', '1.0', '40', '66 %', '17.39 %']\n",
      "['3', 'United States', '345,426,571', '0.57 %', '1,949,236', '38', '9,147,420', '1,286,132', '1.6', '38', '82 %', '4.23 %']\n",
      "['4', 'Indonesia', '283,487,931', '0.82 %', '2,297,864', '156', '1,811,570', '-38,469', '2.1', '30', '59 %', '3.47 %']\n",
      "['5', 'Pakistan', '251,269,164', '1.52 %', '3,764,669', '326', '770,880', '-1,401,173', '3.5', '20', '34 %', '3.08 %']\n",
      "['6', 'Nigeria', '232,679,478', '2.10 %', '4,796,533', '255', '910,770', '-35,202', '4.4', '18', '54 %', '2.85 %']\n",
      "['7', 'Brazil', '211,998,573', '0.41 %', '857,844', '25', '8,358,140', '-225,510', '1.6', '34', '91 %', '2.60 %']\n",
      "['8', 'Bangladesh', '173,562,364', '1.22 %', '2,095,374', '1,333', '130,170', '-473,362', '2.1', '26', '42 %', '2.13 %']\n",
      "['9', 'Russia', '144,820,423', '-0.43 %', '-620,077', '9', '16,376,870', '-178,042', '1.5', '40', '75 %', '1.77 %']\n",
      "['10', 'Ethiopia', '132,059,767', '2.62 %', '3,368,075', '132', '1,000,000', '30,069', '3.9', '19', '22 %', '1.62 %']\n"
     ]
    }
   ],
   "source": [
    "import requests\n",
    "from bs4 import BeautifulSoup\n",
    "\n",
    "# URL de la page web à analyser\n",
    "url = 'https://www.worldometers.info/world-population/population-by-country/'\n",
    "\n",
    "# Envoyer une requête HTTP pour obtenir le contenu de la page\n",
    "response = requests.get(url)\n",
    "soup = BeautifulSoup(response.content, 'html.parser')\n",
    "\n",
    "# Trouver la table contenant les données\n",
    "table = soup.find('table', id='example2')\n",
    "\n",
    "# Extraire les en-têtes de la table\n",
    "headers = [header.text for header in table.find_all('th')]\n",
    "\n",
    "# Extraire les lignes de la table\n",
    "rows = table.find_all('tr')\n",
    "\n",
    "# Extraire les données de chaque ligne\n",
    "data = []\n",
    "for row in rows:\n",
    "    cells = row.find_all('td')\n",
    "    cells = [cell.text.strip() for cell in cells]\n",
    "    if cells:  # Ignorer les lignes vides\n",
    "        data.append(cells)\n",
    "\n",
    "# Afficher les en-têtes et les premières lignes de données\n",
    "print(headers)\n",
    "for row in data[:10]:  # Afficher les 10 premières lignes\n",
    "    print(row)"
   ]
  },
  {
   "cell_type": "code",
   "execution_count": 3,
   "metadata": {},
   "outputs": [],
   "source": [
    "def clean_data(cell):\n",
    "    cell = cell.replace(',', '').replace('N/A', '').strip()\n",
    "    if cell.isdigit():\n",
    "        return int(cell)\n",
    "    try:\n",
    "        return float(cell)\n",
    "    except ValueError:\n",
    "        return cell"
   ]
  },
  {
   "cell_type": "code",
   "execution_count": 4,
   "metadata": {},
   "outputs": [
    {
     "name": "stdout",
     "output_type": "stream",
     "text": [
      "['#', 'Country (or dependency)', 'Population (2024)', 'Yearly Change', 'Net Change', 'Density (P/Km²)', 'Land Area (Km²)', 'Migrants (net)', 'Fert. Rate', 'Med. Age', 'Urban Pop %', 'World Share']\n",
      "['1', 'India', '1,450,935,791', '0.89 %', '12,866,195', '488', '2,973,190', '-630,830', '2.0', '28', '37 %', '17.78 %']\n",
      "['2', 'China', '1,419,321,278', '-0.23 %', '-3,263,655', '151', '9,388,211', '-318,992', '1.0', '40', '66 %', '17.39 %']\n",
      "['3', 'United States', '345,426,571', '0.57 %', '1,949,236', '38', '9,147,420', '1,286,132', '1.6', '38', '82 %', '4.23 %']\n",
      "['4', 'Indonesia', '283,487,931', '0.82 %', '2,297,864', '156', '1,811,570', '-38,469', '2.1', '30', '59 %', '3.47 %']\n",
      "['5', 'Pakistan', '251,269,164', '1.52 %', '3,764,669', '326', '770,880', '-1,401,173', '3.5', '20', '34 %', '3.08 %']\n",
      "['6', 'Nigeria', '232,679,478', '2.10 %', '4,796,533', '255', '910,770', '-35,202', '4.4', '18', '54 %', '2.85 %']\n",
      "['7', 'Brazil', '211,998,573', '0.41 %', '857,844', '25', '8,358,140', '-225,510', '1.6', '34', '91 %', '2.60 %']\n",
      "['8', 'Bangladesh', '173,562,364', '1.22 %', '2,095,374', '1,333', '130,170', '-473,362', '2.1', '26', '42 %', '2.13 %']\n",
      "['9', 'Russia', '144,820,423', '-0.43 %', '-620,077', '9', '16,376,870', '-178,042', '1.5', '40', '75 %', '1.77 %']\n",
      "['10', 'Ethiopia', '132,059,767', '2.62 %', '3,368,075', '132', '1,000,000', '30,069', '3.9', '19', '22 %', '1.62 %']\n"
     ]
    }
   ],
   "source": [
    "# Afficher les en-têtes et les premières lignes de données\n",
    "print(headers)\n",
    "for row in data[:10]:  # Afficher les 10 premières lignes\n",
    "    print(row)"
   ]
  },
  {
   "cell_type": "code",
   "execution_count": 6,
   "metadata": {},
   "outputs": [],
   "source": [
    "import csv\n",
    "\n",
    "with open('population_by_country.csv', mode='w', newline='', encoding='utf-8') as file:\n",
    "    writer = csv.writer(file)\n",
    "    writer.writerow(headers)  # Écrire les en-têtes\n",
    "    writer.writerows(data)    # Écrire les données\n"
   ]
  },
  {
   "cell_type": "code",
   "execution_count": 24,
   "metadata": {},
   "outputs": [
    {
     "name": "stdout",
     "output_type": "stream",
     "text": [
      "Noms des colonnes avant modification: Index(['#', 'Country (or dependency)', 'Population (2024)', 'Yearly Change',\n",
      "       'Net Change', 'Density (P/Km²)', 'Land Area (Km²)', 'Migrants (net)',\n",
      "       'Fert. Rate', 'Med. Age', 'Urban Pop %', 'World Share'],\n",
      "      dtype='object')\n",
      "Noms des colonnes après modification: Index(['#', 'Country (or dependency)', 'Population (2024)', 'Yearly Change',\n",
      "       'Net Change', 'Density (P/Km²)', 'Land Area (Km²)', 'Migrants (net)',\n",
      "       'Fert. Rate', 'Med. Age', 'Urban Pop %', 'World Share'],\n",
      "      dtype='object')\n"
     ]
    }
   ],
   "source": [
    "import pandas as pd\n",
    "\n",
    "# Charger les données à partir du fichier CSV\n",
    "df = pd.read_csv('population_by_country.csv')\n",
    "\n",
    "# Afficher les noms des colonnes pour vérifier leur exactitude\n",
    "print(\"Noms des colonnes avant modification:\", df.columns)\n",
    "\n",
    "# Renommer les colonnes avec les nouveaux noms d'en-têtes\n",
    "df.columns = ['#', 'Country (or dependency)', 'Population (2024)', 'Yearly Change', 'Net Change', \n",
    "              'Density (P/Km²)', 'Land Area (Km²)', 'Migrants (net)', 'Fert. Rate', 'Med. Age', \n",
    "              'Urban Pop %', 'World Share']\n",
    "\n",
    "# Afficher les noms des colonnes après modification\n",
    "print(\"Noms des colonnes après modification:\", df.columns)\n",
    "\n",
    "# Sauvegarder le DataFrame modifié dans un nouveau fichier CSV\n",
    "df.to_csv('modified_population_by_country.csv', index=False)"
   ]
  },
  {
   "cell_type": "code",
   "execution_count": 26,
   "metadata": {},
   "outputs": [
    {
     "name": "stdout",
     "output_type": "stream",
     "text": [
      "Index(['#', 'Country (or dependency)', 'Population (2024)', 'Yearly Change',\n",
      "       'Net Change', 'Density (P/Km²)', 'Land Area (Km²)', 'Migrants (net)',\n",
      "       'Fert. Rate', 'Med. Age', 'Urban Pop %', 'World Share'],\n",
      "      dtype='object')\n"
     ]
    }
   ],
   "source": [
    "import pandas as pd\n",
    "import matplotlib.pyplot as plt\n",
    "from sklearn.linear_model import LinearRegression\n",
    "import numpy as np\n",
    "\n",
    "# Charger les données à partir du fichier CSV\n",
    "df = pd.read_csv('modified_population_by_country.csv')\n",
    "\n",
    "# Afficher les noms des colonnes pour vérifier leur exactitude\n",
    "print(df.columns)"
   ]
  },
  {
   "cell_type": "code",
   "execution_count": 27,
   "metadata": {},
   "outputs": [
    {
     "name": "stdout",
     "output_type": "stream",
     "text": [
      "<class 'pandas.core.frame.DataFrame'>\n",
      "RangeIndex: 234 entries, 0 to 233\n",
      "Data columns (total 12 columns):\n",
      " #   Column                   Non-Null Count  Dtype  \n",
      "---  ------                   --------------  -----  \n",
      " 0   #                        234 non-null    int64  \n",
      " 1   Country (or dependency)  234 non-null    object \n",
      " 2   Population (2024)        234 non-null    object \n",
      " 3   Yearly Change            234 non-null    object \n",
      " 4   Net Change               234 non-null    object \n",
      " 5   Density (P/Km²)          234 non-null    object \n",
      " 6   Land Area (Km²)          234 non-null    object \n",
      " 7   Migrants (net)           234 non-null    object \n",
      " 8   Fert. Rate               234 non-null    float64\n",
      " 9   Med. Age                 234 non-null    int64  \n",
      " 10  Urban Pop %              234 non-null    object \n",
      " 11  World Share              234 non-null    object \n",
      "dtypes: float64(1), int64(2), object(9)\n",
      "memory usage: 22.1+ KB\n"
     ]
    }
   ],
   "source": [
    "df.info()"
   ]
  },
  {
   "cell_type": "code",
   "execution_count": 30,
   "metadata": {},
   "outputs": [
    {
     "name": "stdout",
     "output_type": "stream",
     "text": [
      "Noms des colonnes: Index(['#', 'Country (or dependency)', 'Population (2024)', 'Yearly Change',\n",
      "       'Net Change', 'Density (P/Km²)', 'Land Area (Km²)', 'Migrants (net)',\n",
      "       'Fert. Rate', 'Med. Age', 'Urban Pop %', 'World Share'],\n",
      "      dtype='object')\n",
      "  Country (or dependency) Population (2024)\n",
      "0                   India     1,450,935,791\n",
      "1                   China     1,419,321,278\n",
      "2           United States       345,426,571\n",
      "3               Indonesia       283,487,931\n",
      "4                Pakistan       251,269,164\n"
     ]
    }
   ],
   "source": [
    "import pandas as pd\n",
    "\n",
    "# Charger les données à partir du fichier CSV modifié\n",
    "df = pd.read_csv('modified_population_by_country.csv')\n",
    "\n",
    "# Afficher les noms des colonnes pour vérifier leur exactitude\n",
    "print(\"Noms des colonnes:\", df.columns)\n",
    "\n",
    "# Liste des pays et des années\n",
    "countries = ['China', 'India', 'United States', 'Indonesia', 'Pakistan']\n",
    "years = [1970, 1980, 1990, 2000, 2010, 2015, 2020, 2022, 2023]\n",
    "\n",
    "# Filtrer les données pour les pays spécifiés\n",
    "filtered_data = df[df['Country (or dependency)'].isin(countries)]\n",
    "\n",
    "# Afficher le DataFrame filtré\n",
    "print(filtered_data[['Country (or dependency)', 'Population (2024)']])"
   ]
  },
  {
   "cell_type": "code",
   "execution_count": 32,
   "metadata": {},
   "outputs": [
    {
     "name": "stdout",
     "output_type": "stream",
     "text": [
      "Noms des colonnes: Index(['#', 'Country (or dependency)', 'Population (2024)', 'Yearly Change',\n",
      "       'Net Change', 'Density (P/Km²)', 'Land Area (Km²)', 'Migrants (net)',\n",
      "       'Fert. Rate', 'Med. Age', 'Urban Pop %', 'World Share'],\n",
      "      dtype='object')\n",
      "Années disponibles: []\n",
      "  Country (or dependency) Population (2024)\n",
      "0                   India     1,450,935,791\n",
      "1                   China     1,419,321,278\n",
      "2           United States       345,426,571\n",
      "3               Indonesia       283,487,931\n",
      "4                Pakistan       251,269,164\n"
     ]
    },
    {
     "ename": "TypeError",
     "evalue": "Could not convert ['IndiaChinaUnited StatesIndonesiaPakistan'\n '1,450,935,7911,419,321,278345,426,571283,487,931251,269,164'] to numeric",
     "output_type": "error",
     "traceback": [
      "\u001b[0;31m---------------------------------------------------------------------------\u001b[0m",
      "\u001b[0;31mTypeError\u001b[0m                                 Traceback (most recent call last)",
      "Cell \u001b[0;32mIn[32], line 32\u001b[0m\n\u001b[1;32m     29\u001b[0m \u001b[38;5;28mprint\u001b[39m(filtered_data)\n\u001b[1;32m     31\u001b[0m \u001b[38;5;66;03m# Nettoyer et organiser les données\u001b[39;00m\n\u001b[0;32m---> 32\u001b[0m filtered_data \u001b[38;5;241m=\u001b[39m filtered_data\u001b[38;5;241m.\u001b[39mfillna(filtered_data\u001b[38;5;241m.\u001b[39mmean())\n\u001b[1;32m     34\u001b[0m \u001b[38;5;66;03m# Diviser les données en ensembles d'entraînement et de test\u001b[39;00m\n\u001b[1;32m     35\u001b[0m X \u001b[38;5;241m=\u001b[39m filtered_data[available_years]\u001b[38;5;241m.\u001b[39mvalues\n",
      "File \u001b[0;32m/Applications/anaconda3/lib/python3.12/site-packages/pandas/core/frame.py:11693\u001b[0m, in \u001b[0;36mDataFrame.mean\u001b[0;34m(self, axis, skipna, numeric_only, **kwargs)\u001b[0m\n\u001b[1;32m  11685\u001b[0m \u001b[38;5;129m@doc\u001b[39m(make_doc(\u001b[38;5;124m\"\u001b[39m\u001b[38;5;124mmean\u001b[39m\u001b[38;5;124m\"\u001b[39m, ndim\u001b[38;5;241m=\u001b[39m\u001b[38;5;241m2\u001b[39m))\n\u001b[1;32m  11686\u001b[0m \u001b[38;5;28;01mdef\u001b[39;00m \u001b[38;5;21mmean\u001b[39m(\n\u001b[1;32m  11687\u001b[0m     \u001b[38;5;28mself\u001b[39m,\n\u001b[0;32m   (...)\u001b[0m\n\u001b[1;32m  11691\u001b[0m     \u001b[38;5;241m*\u001b[39m\u001b[38;5;241m*\u001b[39mkwargs,\n\u001b[1;32m  11692\u001b[0m ):\n\u001b[0;32m> 11693\u001b[0m     result \u001b[38;5;241m=\u001b[39m \u001b[38;5;28msuper\u001b[39m()\u001b[38;5;241m.\u001b[39mmean(axis, skipna, numeric_only, \u001b[38;5;241m*\u001b[39m\u001b[38;5;241m*\u001b[39mkwargs)\n\u001b[1;32m  11694\u001b[0m     \u001b[38;5;28;01mif\u001b[39;00m \u001b[38;5;28misinstance\u001b[39m(result, Series):\n\u001b[1;32m  11695\u001b[0m         result \u001b[38;5;241m=\u001b[39m result\u001b[38;5;241m.\u001b[39m__finalize__(\u001b[38;5;28mself\u001b[39m, method\u001b[38;5;241m=\u001b[39m\u001b[38;5;124m\"\u001b[39m\u001b[38;5;124mmean\u001b[39m\u001b[38;5;124m\"\u001b[39m)\n",
      "File \u001b[0;32m/Applications/anaconda3/lib/python3.12/site-packages/pandas/core/generic.py:12420\u001b[0m, in \u001b[0;36mNDFrame.mean\u001b[0;34m(self, axis, skipna, numeric_only, **kwargs)\u001b[0m\n\u001b[1;32m  12413\u001b[0m \u001b[38;5;28;01mdef\u001b[39;00m \u001b[38;5;21mmean\u001b[39m(\n\u001b[1;32m  12414\u001b[0m     \u001b[38;5;28mself\u001b[39m,\n\u001b[1;32m  12415\u001b[0m     axis: Axis \u001b[38;5;241m|\u001b[39m \u001b[38;5;28;01mNone\u001b[39;00m \u001b[38;5;241m=\u001b[39m \u001b[38;5;241m0\u001b[39m,\n\u001b[0;32m   (...)\u001b[0m\n\u001b[1;32m  12418\u001b[0m     \u001b[38;5;241m*\u001b[39m\u001b[38;5;241m*\u001b[39mkwargs,\n\u001b[1;32m  12419\u001b[0m ) \u001b[38;5;241m-\u001b[39m\u001b[38;5;241m>\u001b[39m Series \u001b[38;5;241m|\u001b[39m \u001b[38;5;28mfloat\u001b[39m:\n\u001b[0;32m> 12420\u001b[0m     \u001b[38;5;28;01mreturn\u001b[39;00m \u001b[38;5;28mself\u001b[39m\u001b[38;5;241m.\u001b[39m_stat_function(\n\u001b[1;32m  12421\u001b[0m         \u001b[38;5;124m\"\u001b[39m\u001b[38;5;124mmean\u001b[39m\u001b[38;5;124m\"\u001b[39m, nanops\u001b[38;5;241m.\u001b[39mnanmean, axis, skipna, numeric_only, \u001b[38;5;241m*\u001b[39m\u001b[38;5;241m*\u001b[39mkwargs\n\u001b[1;32m  12422\u001b[0m     )\n",
      "File \u001b[0;32m/Applications/anaconda3/lib/python3.12/site-packages/pandas/core/generic.py:12377\u001b[0m, in \u001b[0;36mNDFrame._stat_function\u001b[0;34m(self, name, func, axis, skipna, numeric_only, **kwargs)\u001b[0m\n\u001b[1;32m  12373\u001b[0m nv\u001b[38;5;241m.\u001b[39mvalidate_func(name, (), kwargs)\n\u001b[1;32m  12375\u001b[0m validate_bool_kwarg(skipna, \u001b[38;5;124m\"\u001b[39m\u001b[38;5;124mskipna\u001b[39m\u001b[38;5;124m\"\u001b[39m, none_allowed\u001b[38;5;241m=\u001b[39m\u001b[38;5;28;01mFalse\u001b[39;00m)\n\u001b[0;32m> 12377\u001b[0m \u001b[38;5;28;01mreturn\u001b[39;00m \u001b[38;5;28mself\u001b[39m\u001b[38;5;241m.\u001b[39m_reduce(\n\u001b[1;32m  12378\u001b[0m     func, name\u001b[38;5;241m=\u001b[39mname, axis\u001b[38;5;241m=\u001b[39maxis, skipna\u001b[38;5;241m=\u001b[39mskipna, numeric_only\u001b[38;5;241m=\u001b[39mnumeric_only\n\u001b[1;32m  12379\u001b[0m )\n",
      "File \u001b[0;32m/Applications/anaconda3/lib/python3.12/site-packages/pandas/core/frame.py:11562\u001b[0m, in \u001b[0;36mDataFrame._reduce\u001b[0;34m(self, op, name, axis, skipna, numeric_only, filter_type, **kwds)\u001b[0m\n\u001b[1;32m  11558\u001b[0m     df \u001b[38;5;241m=\u001b[39m df\u001b[38;5;241m.\u001b[39mT\n\u001b[1;32m  11560\u001b[0m \u001b[38;5;66;03m# After possibly _get_data and transposing, we are now in the\u001b[39;00m\n\u001b[1;32m  11561\u001b[0m \u001b[38;5;66;03m#  simple case where we can use BlockManager.reduce\u001b[39;00m\n\u001b[0;32m> 11562\u001b[0m res \u001b[38;5;241m=\u001b[39m df\u001b[38;5;241m.\u001b[39m_mgr\u001b[38;5;241m.\u001b[39mreduce(blk_func)\n\u001b[1;32m  11563\u001b[0m out \u001b[38;5;241m=\u001b[39m df\u001b[38;5;241m.\u001b[39m_constructor_from_mgr(res, axes\u001b[38;5;241m=\u001b[39mres\u001b[38;5;241m.\u001b[39maxes)\u001b[38;5;241m.\u001b[39miloc[\u001b[38;5;241m0\u001b[39m]\n\u001b[1;32m  11564\u001b[0m \u001b[38;5;28;01mif\u001b[39;00m out_dtype \u001b[38;5;129;01mis\u001b[39;00m \u001b[38;5;129;01mnot\u001b[39;00m \u001b[38;5;28;01mNone\u001b[39;00m \u001b[38;5;129;01mand\u001b[39;00m out\u001b[38;5;241m.\u001b[39mdtype \u001b[38;5;241m!=\u001b[39m \u001b[38;5;124m\"\u001b[39m\u001b[38;5;124mboolean\u001b[39m\u001b[38;5;124m\"\u001b[39m:\n",
      "File \u001b[0;32m/Applications/anaconda3/lib/python3.12/site-packages/pandas/core/internals/managers.py:1500\u001b[0m, in \u001b[0;36mBlockManager.reduce\u001b[0;34m(self, func)\u001b[0m\n\u001b[1;32m   1498\u001b[0m res_blocks: \u001b[38;5;28mlist\u001b[39m[Block] \u001b[38;5;241m=\u001b[39m []\n\u001b[1;32m   1499\u001b[0m \u001b[38;5;28;01mfor\u001b[39;00m blk \u001b[38;5;129;01min\u001b[39;00m \u001b[38;5;28mself\u001b[39m\u001b[38;5;241m.\u001b[39mblocks:\n\u001b[0;32m-> 1500\u001b[0m     nbs \u001b[38;5;241m=\u001b[39m blk\u001b[38;5;241m.\u001b[39mreduce(func)\n\u001b[1;32m   1501\u001b[0m     res_blocks\u001b[38;5;241m.\u001b[39mextend(nbs)\n\u001b[1;32m   1503\u001b[0m index \u001b[38;5;241m=\u001b[39m Index([\u001b[38;5;28;01mNone\u001b[39;00m])  \u001b[38;5;66;03m# placeholder\u001b[39;00m\n",
      "File \u001b[0;32m/Applications/anaconda3/lib/python3.12/site-packages/pandas/core/internals/blocks.py:404\u001b[0m, in \u001b[0;36mBlock.reduce\u001b[0;34m(self, func)\u001b[0m\n\u001b[1;32m    398\u001b[0m \u001b[38;5;129m@final\u001b[39m\n\u001b[1;32m    399\u001b[0m \u001b[38;5;28;01mdef\u001b[39;00m \u001b[38;5;21mreduce\u001b[39m(\u001b[38;5;28mself\u001b[39m, func) \u001b[38;5;241m-\u001b[39m\u001b[38;5;241m>\u001b[39m \u001b[38;5;28mlist\u001b[39m[Block]:\n\u001b[1;32m    400\u001b[0m     \u001b[38;5;66;03m# We will apply the function and reshape the result into a single-row\u001b[39;00m\n\u001b[1;32m    401\u001b[0m     \u001b[38;5;66;03m#  Block with the same mgr_locs; squeezing will be done at a higher level\u001b[39;00m\n\u001b[1;32m    402\u001b[0m     \u001b[38;5;28;01massert\u001b[39;00m \u001b[38;5;28mself\u001b[39m\u001b[38;5;241m.\u001b[39mndim \u001b[38;5;241m==\u001b[39m \u001b[38;5;241m2\u001b[39m\n\u001b[0;32m--> 404\u001b[0m     result \u001b[38;5;241m=\u001b[39m func(\u001b[38;5;28mself\u001b[39m\u001b[38;5;241m.\u001b[39mvalues)\n\u001b[1;32m    406\u001b[0m     \u001b[38;5;28;01mif\u001b[39;00m \u001b[38;5;28mself\u001b[39m\u001b[38;5;241m.\u001b[39mvalues\u001b[38;5;241m.\u001b[39mndim \u001b[38;5;241m==\u001b[39m \u001b[38;5;241m1\u001b[39m:\n\u001b[1;32m    407\u001b[0m         res_values \u001b[38;5;241m=\u001b[39m result\n",
      "File \u001b[0;32m/Applications/anaconda3/lib/python3.12/site-packages/pandas/core/frame.py:11481\u001b[0m, in \u001b[0;36mDataFrame._reduce.<locals>.blk_func\u001b[0;34m(values, axis)\u001b[0m\n\u001b[1;32m  11479\u001b[0m         \u001b[38;5;28;01mreturn\u001b[39;00m np\u001b[38;5;241m.\u001b[39marray([result])\n\u001b[1;32m  11480\u001b[0m \u001b[38;5;28;01melse\u001b[39;00m:\n\u001b[0;32m> 11481\u001b[0m     \u001b[38;5;28;01mreturn\u001b[39;00m op(values, axis\u001b[38;5;241m=\u001b[39maxis, skipna\u001b[38;5;241m=\u001b[39mskipna, \u001b[38;5;241m*\u001b[39m\u001b[38;5;241m*\u001b[39mkwds)\n",
      "File \u001b[0;32m/Applications/anaconda3/lib/python3.12/site-packages/pandas/core/nanops.py:147\u001b[0m, in \u001b[0;36mbottleneck_switch.__call__.<locals>.f\u001b[0;34m(values, axis, skipna, **kwds)\u001b[0m\n\u001b[1;32m    145\u001b[0m         result \u001b[38;5;241m=\u001b[39m alt(values, axis\u001b[38;5;241m=\u001b[39maxis, skipna\u001b[38;5;241m=\u001b[39mskipna, \u001b[38;5;241m*\u001b[39m\u001b[38;5;241m*\u001b[39mkwds)\n\u001b[1;32m    146\u001b[0m \u001b[38;5;28;01melse\u001b[39;00m:\n\u001b[0;32m--> 147\u001b[0m     result \u001b[38;5;241m=\u001b[39m alt(values, axis\u001b[38;5;241m=\u001b[39maxis, skipna\u001b[38;5;241m=\u001b[39mskipna, \u001b[38;5;241m*\u001b[39m\u001b[38;5;241m*\u001b[39mkwds)\n\u001b[1;32m    149\u001b[0m \u001b[38;5;28;01mreturn\u001b[39;00m result\n",
      "File \u001b[0;32m/Applications/anaconda3/lib/python3.12/site-packages/pandas/core/nanops.py:404\u001b[0m, in \u001b[0;36m_datetimelike_compat.<locals>.new_func\u001b[0;34m(values, axis, skipna, mask, **kwargs)\u001b[0m\n\u001b[1;32m    401\u001b[0m \u001b[38;5;28;01mif\u001b[39;00m datetimelike \u001b[38;5;129;01mand\u001b[39;00m mask \u001b[38;5;129;01mis\u001b[39;00m \u001b[38;5;28;01mNone\u001b[39;00m:\n\u001b[1;32m    402\u001b[0m     mask \u001b[38;5;241m=\u001b[39m isna(values)\n\u001b[0;32m--> 404\u001b[0m result \u001b[38;5;241m=\u001b[39m func(values, axis\u001b[38;5;241m=\u001b[39maxis, skipna\u001b[38;5;241m=\u001b[39mskipna, mask\u001b[38;5;241m=\u001b[39mmask, \u001b[38;5;241m*\u001b[39m\u001b[38;5;241m*\u001b[39mkwargs)\n\u001b[1;32m    406\u001b[0m \u001b[38;5;28;01mif\u001b[39;00m datetimelike:\n\u001b[1;32m    407\u001b[0m     result \u001b[38;5;241m=\u001b[39m _wrap_results(result, orig_values\u001b[38;5;241m.\u001b[39mdtype, fill_value\u001b[38;5;241m=\u001b[39miNaT)\n",
      "File \u001b[0;32m/Applications/anaconda3/lib/python3.12/site-packages/pandas/core/nanops.py:720\u001b[0m, in \u001b[0;36mnanmean\u001b[0;34m(values, axis, skipna, mask)\u001b[0m\n\u001b[1;32m    718\u001b[0m count \u001b[38;5;241m=\u001b[39m _get_counts(values\u001b[38;5;241m.\u001b[39mshape, mask, axis, dtype\u001b[38;5;241m=\u001b[39mdtype_count)\n\u001b[1;32m    719\u001b[0m the_sum \u001b[38;5;241m=\u001b[39m values\u001b[38;5;241m.\u001b[39msum(axis, dtype\u001b[38;5;241m=\u001b[39mdtype_sum)\n\u001b[0;32m--> 720\u001b[0m the_sum \u001b[38;5;241m=\u001b[39m _ensure_numeric(the_sum)\n\u001b[1;32m    722\u001b[0m \u001b[38;5;28;01mif\u001b[39;00m axis \u001b[38;5;129;01mis\u001b[39;00m \u001b[38;5;129;01mnot\u001b[39;00m \u001b[38;5;28;01mNone\u001b[39;00m \u001b[38;5;129;01mand\u001b[39;00m \u001b[38;5;28mgetattr\u001b[39m(the_sum, \u001b[38;5;124m\"\u001b[39m\u001b[38;5;124mndim\u001b[39m\u001b[38;5;124m\"\u001b[39m, \u001b[38;5;28;01mFalse\u001b[39;00m):\n\u001b[1;32m    723\u001b[0m     count \u001b[38;5;241m=\u001b[39m cast(np\u001b[38;5;241m.\u001b[39mndarray, count)\n",
      "File \u001b[0;32m/Applications/anaconda3/lib/python3.12/site-packages/pandas/core/nanops.py:1686\u001b[0m, in \u001b[0;36m_ensure_numeric\u001b[0;34m(x)\u001b[0m\n\u001b[1;32m   1683\u001b[0m inferred \u001b[38;5;241m=\u001b[39m lib\u001b[38;5;241m.\u001b[39minfer_dtype(x)\n\u001b[1;32m   1684\u001b[0m \u001b[38;5;28;01mif\u001b[39;00m inferred \u001b[38;5;129;01min\u001b[39;00m [\u001b[38;5;124m\"\u001b[39m\u001b[38;5;124mstring\u001b[39m\u001b[38;5;124m\"\u001b[39m, \u001b[38;5;124m\"\u001b[39m\u001b[38;5;124mmixed\u001b[39m\u001b[38;5;124m\"\u001b[39m]:\n\u001b[1;32m   1685\u001b[0m     \u001b[38;5;66;03m# GH#44008, GH#36703 avoid casting e.g. strings to numeric\u001b[39;00m\n\u001b[0;32m-> 1686\u001b[0m     \u001b[38;5;28;01mraise\u001b[39;00m \u001b[38;5;167;01mTypeError\u001b[39;00m(\u001b[38;5;124mf\u001b[39m\u001b[38;5;124m\"\u001b[39m\u001b[38;5;124mCould not convert \u001b[39m\u001b[38;5;132;01m{\u001b[39;00mx\u001b[38;5;132;01m}\u001b[39;00m\u001b[38;5;124m to numeric\u001b[39m\u001b[38;5;124m\"\u001b[39m)\n\u001b[1;32m   1687\u001b[0m \u001b[38;5;28;01mtry\u001b[39;00m:\n\u001b[1;32m   1688\u001b[0m     x \u001b[38;5;241m=\u001b[39m x\u001b[38;5;241m.\u001b[39mastype(np\u001b[38;5;241m.\u001b[39mcomplex128)\n",
      "\u001b[0;31mTypeError\u001b[0m: Could not convert ['IndiaChinaUnited StatesIndonesiaPakistan'\n '1,450,935,7911,419,321,278345,426,571283,487,931251,269,164'] to numeric"
     ]
    }
   ],
   "source": [
    "import pandas as pd\n",
    "import matplotlib.pyplot as plt\n",
    "from sklearn.model_selection import train_test_split\n",
    "from sklearn.linear_model import LinearRegression\n",
    "import numpy as np\n",
    "\n",
    "# Charger les données à partir du fichier CSV modifié\n",
    "df = pd.read_csv('modified_population_by_country.csv')\n",
    "\n",
    "# Afficher les noms des colonnes pour vérifier leur exactitude\n",
    "print(\"Noms des colonnes:\", df.columns)\n",
    "\n",
    "# Liste des pays et des années\n",
    "countries = ['China', 'India', 'United States', 'Indonesia', 'Pakistan']\n",
    "years = [1970, 1980, 1990, 2000, 2010, 2015, 2020, 2022, 2023]\n",
    "\n",
    "# Filtrer les données pour les pays spécifiés\n",
    "filtered_data = df[df['Country (or dependency)'].isin(countries)]\n",
    "\n",
    "# Vérifier les colonnes disponibles pour les années spécifiques\n",
    "available_years = [str(year) for year in years if str(year) in df.columns]\n",
    "print(\"Années disponibles:\", available_years)\n",
    "\n",
    "# Sélectionner uniquement les colonnes disponibles\n",
    "columns_to_select = ['Country (or dependency)', 'Population (2024)'] + available_years\n",
    "\n",
    "# Afficher le DataFrame filtré avec les colonnes des années spécifiques\n",
    "filtered_data = filtered_data[columns_to_select]\n",
    "print(filtered_data)\n",
    "\n",
    "# Nettoyer et organiser les données\n",
    "filtered_data = filtered_data.fillna(filtered_data.mean())\n",
    "\n",
    "# Diviser les données en ensembles d'entraînement et de test\n",
    "X = filtered_data[available_years].values\n",
    "y = filtered_data['Population (2024)'].values\n",
    "X_train, X_test, y_train, y_test = train_test_split(X, y, test_size=0.2, random_state=42)\n",
    "\n",
    "# Créer et entraîner le modèle de régression linéaire\n",
    "model = LinearRegression()\n",
    "model.fit(X_train, y_train)\n",
    "\n",
    "# Prédire les populations futures pour les 5 à 10 prochaines années\n",
    "future_years = np.array([2025, 2030, 2035, 2040, 2045, 2050]).reshape(-1, 1)\n",
    "predictions = model.predict(future_years)\n",
    "\n",
    "# Visualiser les résultats\n",
    "plt.figure(figsize=(10, 6))\n",
    "plt.scatter(X_train.flatten(), y_train, color='blue', label='Training Data')\n",
    "plt.scatter(X_test.flatten(), y_test, color='green', label='Test Data')\n",
    "plt.plot(future_years, predictions, color='red', label='Predictions')\n",
    "plt.xlabel('Year')\n",
    "plt.ylabel('Population')\n",
    "plt.title('Population Prediction')\n",
    "plt.legend()\n",
    "plt.show()"
   ]
  },
  {
   "cell_type": "code",
   "execution_count": null,
   "metadata": {},
   "outputs": [],
   "source": []
  }
 ],
 "metadata": {
  "kernelspec": {
   "display_name": "base",
   "language": "python",
   "name": "python3"
  },
  "language_info": {
   "codemirror_mode": {
    "name": "ipython",
    "version": 3
   },
   "file_extension": ".py",
   "mimetype": "text/x-python",
   "name": "python",
   "nbconvert_exporter": "python",
   "pygments_lexer": "ipython3",
   "version": "3.12.4"
  }
 },
 "nbformat": 4,
 "nbformat_minor": 2
}
